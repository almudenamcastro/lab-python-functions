{
 "cells": [
  {
   "cell_type": "markdown",
   "id": "25d7736c-ba17-4aff-b6bb-66eba20fbf4e",
   "metadata": {},
   "source": [
    "# Lab | Functions"
   ]
  },
  {
   "cell_type": "markdown",
   "id": "0c581062-8967-4d93-b06e-62833222f930",
   "metadata": {
    "tags": []
   },
   "source": [
    "## Exercise: Managing Customer Orders with Functions\n",
    "\n",
    "In the previous exercise, you improved the code for managing customer orders by using loops and flow control. Now, let's take it a step further and refactor the code by introducing functions.\n",
    "\n",
    "Follow the steps below to complete the exercise:\n",
    "\n",
    "1. Define a function named `initialize_inventory` that takes `products` as a parameter. Inside the function, implement the code for initializing the inventory dictionary using a loop and user input.\n",
    "\n",
    "2. Define a function named `get_customer_orders` that takes no parameters. Inside the function, implement the code for prompting the user to enter the product names using a loop. The function should return the `customer_orders` set.\n",
    "\n",
    "3. Define a function named `update_inventory` that takes `customer_orders` and `inventory` as parameters. Inside the function, implement the code for updating the inventory dictionary based on the customer orders.\n",
    "\n",
    "4. Define a function named `calculate_order_statistics` that takes `customer_orders` and `products` as parameters. Inside the function, implement the code for calculating the order statistics (total products ordered, and percentage of unique products ordered). The function should return these values.\n",
    "\n",
    "5. Define a function named `print_order_statistics` that takes `order_statistics` as a parameter. Inside the function, implement the code for printing the order statistics.\n",
    "\n",
    "6. Define a function named `print_inventory` that takes `inventory` as a parameter. Inside the function, implement the code for printing the updated inventory.\n",
    "\n",
    "7. Call the functions in the appropriate sequence to execute the program and manage customer orders.\n",
    "\n",
    "Hints for functions:\n",
    "\n",
    "- Consider the input parameters required for each function and their return values.\n",
    "- Utilize function parameters and return values to transfer data between functions.\n",
    "- Test your functions individually to ensure they work correctly."
   ]
  },
  {
   "cell_type": "code",
   "execution_count": 19,
   "id": "6a31cb17",
   "metadata": {},
   "outputs": [],
   "source": [
    "# 1. Define a function named `initialize_inventory` that takes `products` as a parameter. \n",
    "# Inside the function, implement the code for initializing the inventory dictionary using a loop and user input.\n",
    "\n",
    "products = [\"t-shirt\", \"mug\", \"hat\", \"book\", \"keychain\"]\n",
    "\n",
    "\n",
    "def initialize_inventory(products): \n",
    "\n",
    "    inventory = {}\n",
    "\n",
    "    # 1.3 ask for the amount of products in the inventory. \n",
    "\n",
    "    for product in products: \n",
    "        while product not in inventory: \n",
    "            try:\n",
    "                inventory[product] = int(input(f\"How many {product}s do you have? \"))\n",
    "            except:\n",
    "                print(\"sorry, I need an integer, your answer wasn't registered\")\n",
    "\n",
    "    return inventory "
   ]
  },
  {
   "cell_type": "code",
   "execution_count": 20,
   "id": "cf6e9def",
   "metadata": {},
   "outputs": [],
   "source": [
    "# 2. Define a function named `get_customer_orders` that takes no parameters. \n",
    "# Inside the function, implement the code for prompting the user to enter the product names using a loop. The function should return the `customer_orders` set.\n",
    "\n",
    "## I decided to include the param inventory, so as to give more feedback to the user. \n",
    "def get_customer_orders(inventory):\n",
    "    customer_orders=set()\n",
    "    wants_to_add=\"yes\"\n",
    "\n",
    "    while wants_to_add.lower()==\"yes\" and len(customer_orders) < len(inventory):\n",
    "        product = input('''What product to you want to add to your order?\\n''' + str(list(inventory.keys())))\n",
    "        if product in inventory:\n",
    "            if inventory[product] > 0:     \n",
    "                customer_orders.add(product)\n",
    "                print(f\"1 {product} was added to your order\")\n",
    "            else: \n",
    "                print(f'''sorry, we have run out of {product}. Try a different product:\n",
    "            '''  + str(list(inventory.keys())))\n",
    "        else: \n",
    "            print(f'''sorry, we don't have {product}. Choose between the following options:\n",
    "            '''  + str(list(inventory.keys())))\n",
    "        wants_to_add = input(\"do you want to add something else? (yes/no)\")\n",
    "\n",
    "    if len(customer_orders) == len(inventory):\n",
    "        print(\"tol pescao vendío\")\n",
    "\n",
    "    return customer_orders"
   ]
  },
  {
   "cell_type": "code",
   "execution_count": 31,
   "id": "f0c3b538",
   "metadata": {},
   "outputs": [],
   "source": [
    "# 3. Define a function named `update_inventory` that takes `customer_orders` and `inventory` as parameters. \n",
    "# Inside the function, implement the code for updating the inventory dictionary based on the customer orders.\n",
    "\n",
    "def update_inventory(inventory, customer_order):\n",
    "    for product in customer_order:\n",
    "        inventory[product]-=1   \n",
    "    return inventory"
   ]
  },
  {
   "cell_type": "code",
   "execution_count": 22,
   "id": "4f4bc6df",
   "metadata": {},
   "outputs": [],
   "source": [
    "# 4. Define a function named `calculate_order_statistics` that takes `customer_orders` and `products` as parameters. \n",
    "# Inside the function, implement the code for calculating the order statistics (total products ordered, and percentage of unique products ordered). \n",
    "# The function should return these values.\n",
    "\n",
    "def calculate_order_statistics(customer_orders, inventory):\n",
    "    return [len(customer_orders) , 100*len(customer_orders)/sum(inventory.values())]"
   ]
  },
  {
   "cell_type": "code",
   "execution_count": 23,
   "id": "8563f4ce",
   "metadata": {},
   "outputs": [],
   "source": [
    "# 5. Define a function named `print_order_statistics` that takes `order_statistics` as a parameter. \n",
    "# Inside the function, implement the code for printing the order statistics.\n",
    "\n",
    "def print_order_statistics(order_statistics):\n",
    "    print(f'''Order Statistics:\n",
    "    Total Products Ordered: {order_statistics[0]}\n",
    "    Percentage of Products Ordered: {order_statistics[1]:.2f} %\n",
    "    ''')"
   ]
  },
  {
   "cell_type": "code",
   "execution_count": 24,
   "id": "95cbc53c",
   "metadata": {},
   "outputs": [],
   "source": [
    "# 6. Define a function named `print_inventory` that takes `inventory` as a parameter. \n",
    "# Inside the function, implement the code for printing the updated inventory.\n",
    "\n",
    "def print_inventory(inventory):\n",
    "    print(\"this is the updated inventory: \")\n",
    "    for key in inventory:\n",
    "        print(inventory[key], key+\"s\")"
   ]
  },
  {
   "cell_type": "code",
   "execution_count": 30,
   "id": "5f55ccb5",
   "metadata": {},
   "outputs": [
    {
     "data": {
      "text/plain": [
       "{'book', 'hat'}"
      ]
     },
     "execution_count": 30,
     "metadata": {},
     "output_type": "execute_result"
    }
   ],
   "source": []
  },
  {
   "cell_type": "code",
   "execution_count": 32,
   "id": "e4d7375f",
   "metadata": {},
   "outputs": [
    {
     "name": "stdout",
     "output_type": "stream",
     "text": [
      "this is your updated inventory: \n",
      "53 t-shirts\n",
      "33 mugs\n",
      "2 hats\n",
      "1 books\n",
      "0 keychains\n",
      "sorry, we have run out of keychain. Try a different product:\n",
      "            ['t-shirt', 'mug', 'hat', 'book', 'keychain']\n",
      "1 book was added to your order\n",
      "1 mug was added to your order\n",
      "this is the customer order:  {'mug', 'book'}\n",
      "Order Statistics:\n",
      "    Total Products Ordered: 2\n",
      "    Percentage of Products Ordered: 2.25 %\n",
      "    \n",
      "this is your updated inventory: \n",
      "53 t-shirts\n",
      "32 mugs\n",
      "2 hats\n",
      "0 books\n",
      "0 keychains\n"
     ]
    }
   ],
   "source": [
    "# 7. Call the functions in the appropriate sequence to execute the program and manage customer orders.\n",
    "\n",
    "products = [\"t-shirt\", \"mug\", \"hat\", \"book\", \"keychain\"]\n",
    "inventory = initialize_inventory(products)\n",
    "print_inventory(inventory)\n",
    "\n",
    "customer_order = get_customer_orders(inventory)\n",
    "print(\"this is the customer order: \", customer_order)\n",
    "\n",
    "order_statistics = calculate_order_statistics(customer_order, inventory)\n",
    "print_order_statistics(order_statistics)\n",
    "\n",
    "inventory = update_inventory(inventory, customer_order)\n",
    "print_inventory(inventory)\n",
    "    \n",
    "    "
   ]
  }
 ],
 "metadata": {
  "kernelspec": {
   "display_name": "Python 3 (ipykernel)",
   "language": "python",
   "name": "python3"
  },
  "language_info": {
   "codemirror_mode": {
    "name": "ipython",
    "version": 3
   },
   "file_extension": ".py",
   "mimetype": "text/x-python",
   "name": "python",
   "nbconvert_exporter": "python",
   "pygments_lexer": "ipython3",
   "version": "3.12.4"
  }
 },
 "nbformat": 4,
 "nbformat_minor": 5
}
